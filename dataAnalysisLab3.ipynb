{
 "cells": [
  {
   "cell_type": "markdown",
   "metadata": {},
   "source": [
    "Лабораторна робота № 3\n",
    "Смислов Даніл\n",
    "ІП-01\n",
    "\n",
    "Спочатку імпортуємо потрібні для роботи бібліотеки"
   ]
  },
  {
   "cell_type": "code",
   "execution_count": 1,
   "metadata": {},
   "outputs": [],
   "source": [
    "from dataclasses import replace\n",
    "import pandas as pd \n",
    "import matplotlib.pyplot as plt"
   ]
  },
  {
   "cell_type": "markdown",
   "metadata": {},
   "source": [
    "Далі імпортуємо дані з файлу Data2.csv з кодуванням 'cp1252' та розділювачем ';'. Розглянемо структуру датафрейму."
   ]
  },
  {
   "cell_type": "code",
   "execution_count": 2,
   "metadata": {},
   "outputs": [
    {
     "name": "stdout",
     "output_type": "stream",
     "text": [
      "<class 'pandas.core.frame.DataFrame'>\n",
      "RangeIndex: 217 entries, 0 to 216\n",
      "Data columns (total 6 columns):\n",
      " #   Column          Non-Null Count  Dtype  \n",
      "---  ------          --------------  -----  \n",
      " 0   Country Name    217 non-null    object \n",
      " 1   Region          217 non-null    object \n",
      " 2   GDP per capita  190 non-null    object \n",
      " 3   Populatiion     216 non-null    float64\n",
      " 4   CO2 emission    205 non-null    object \n",
      " 5   Area            217 non-null    object \n",
      "dtypes: float64(1), object(5)\n",
      "memory usage: 10.3+ KB\n"
     ]
    },
    {
     "data": {
      "text/html": [
       "<div>\n",
       "<style scoped>\n",
       "    .dataframe tbody tr th:only-of-type {\n",
       "        vertical-align: middle;\n",
       "    }\n",
       "\n",
       "    .dataframe tbody tr th {\n",
       "        vertical-align: top;\n",
       "    }\n",
       "\n",
       "    .dataframe thead th {\n",
       "        text-align: right;\n",
       "    }\n",
       "</style>\n",
       "<table border=\"1\" class=\"dataframe\">\n",
       "  <thead>\n",
       "    <tr style=\"text-align: right;\">\n",
       "      <th></th>\n",
       "      <th>Country Name</th>\n",
       "      <th>Region</th>\n",
       "      <th>GDP per capita</th>\n",
       "      <th>Populatiion</th>\n",
       "      <th>CO2 emission</th>\n",
       "      <th>Area</th>\n",
       "    </tr>\n",
       "  </thead>\n",
       "  <tbody>\n",
       "    <tr>\n",
       "      <th>0</th>\n",
       "      <td>Afghanistan</td>\n",
       "      <td>South Asia</td>\n",
       "      <td>561,7787463</td>\n",
       "      <td>34656032.0</td>\n",
       "      <td>9809,225</td>\n",
       "      <td>652860</td>\n",
       "    </tr>\n",
       "    <tr>\n",
       "      <th>1</th>\n",
       "      <td>Albania</td>\n",
       "      <td>Europe &amp; Central Asia</td>\n",
       "      <td>4124,98239</td>\n",
       "      <td>2876101.0</td>\n",
       "      <td>5716,853</td>\n",
       "      <td>28750</td>\n",
       "    </tr>\n",
       "    <tr>\n",
       "      <th>2</th>\n",
       "      <td>Algeria</td>\n",
       "      <td>Middle East &amp; North Africa</td>\n",
       "      <td>3916,881571</td>\n",
       "      <td>40606052.0</td>\n",
       "      <td>145400,217</td>\n",
       "      <td>2381740</td>\n",
       "    </tr>\n",
       "    <tr>\n",
       "      <th>3</th>\n",
       "      <td>American Samoa</td>\n",
       "      <td>East Asia &amp; Pacific</td>\n",
       "      <td>11834,74523</td>\n",
       "      <td>55599.0</td>\n",
       "      <td>NaN</td>\n",
       "      <td>200</td>\n",
       "    </tr>\n",
       "    <tr>\n",
       "      <th>4</th>\n",
       "      <td>Andorra</td>\n",
       "      <td>Europe &amp; Central Asia</td>\n",
       "      <td>36988,62203</td>\n",
       "      <td>77281.0</td>\n",
       "      <td>462,042</td>\n",
       "      <td>470</td>\n",
       "    </tr>\n",
       "  </tbody>\n",
       "</table>\n",
       "</div>"
      ],
      "text/plain": [
       "     Country Name                      Region GDP per capita  Populatiion  \\\n",
       "0     Afghanistan                  South Asia    561,7787463   34656032.0   \n",
       "1         Albania       Europe & Central Asia     4124,98239    2876101.0   \n",
       "2         Algeria  Middle East & North Africa    3916,881571   40606052.0   \n",
       "3  American Samoa         East Asia & Pacific    11834,74523      55599.0   \n",
       "4         Andorra       Europe & Central Asia    36988,62203      77281.0   \n",
       "\n",
       "  CO2 emission     Area  \n",
       "0     9809,225   652860  \n",
       "1     5716,853    28750  \n",
       "2   145400,217  2381740  \n",
       "3          NaN      200  \n",
       "4      462,042      470  "
      ]
     },
     "execution_count": 2,
     "metadata": {},
     "output_type": "execute_result"
    }
   ],
   "source": [
    "def getDataset():\n",
    "    data = pd.read_csv('Data2.csv',sep=';',encoding='cp1252')\n",
    "    return data \n",
    "\n",
    "dataset = getDataset()\n",
    "dataset.info()\n",
    "dataset.head(5)"
   ]
  },
  {
   "cell_type": "markdown",
   "metadata": {},
   "source": [
    "Бачимо, що проблема з типами даних. Напишемо функцію, що конвертує в тип float та заміняє ',' на '.'. Застосуємо до стовпців, перевіримо типи. "
   ]
  },
  {
   "cell_type": "code",
   "execution_count": 3,
   "metadata": {},
   "outputs": [
    {
     "data": {
      "text/plain": [
       "Country Name       object\n",
       "Region             object\n",
       "GDP per capita    float64\n",
       "Populatiion       float64\n",
       "CO2 emission      float64\n",
       "Area              float64\n",
       "dtype: object"
      ]
     },
     "execution_count": 3,
     "metadata": {},
     "output_type": "execute_result"
    }
   ],
   "source": [
    "def toFloat(dataset,columnName):\n",
    "    dataset[columnName] = dataset[columnName].str.replace(',', '.').astype(float)\n",
    "\n",
    "toFloat(dataset,'GDP per capita')\n",
    "toFloat(dataset,'CO2 emission')\n",
    "toFloat(dataset,'Area')\n",
    "dataset.dtypes\n",
    "\n"
   ]
  },
  {
   "cell_type": "markdown",
   "metadata": {},
   "source": [
    "Окей, з типами проблему вирішили. Далі я помітив проблему з очевидно некоректними від'ємними даними в певних стовпцях. Давайте напишемо процедуру та замінимо від'ємні значення на абсолютні. Також для перевірки виведемо чи залишились в нас від'ємні значення. "
   ]
  },
  {
   "cell_type": "code",
   "execution_count": 4,
   "metadata": {},
   "outputs": [
    {
     "name": "stdout",
     "output_type": "stream",
     "text": [
      "Empty DataFrame\n",
      "Columns: [Country Name, Region, GDP per capita, Populatiion, CO2 emission, Area]\n",
      "Index: []\n",
      "Empty DataFrame\n",
      "Columns: [Country Name, Region, GDP per capita, Populatiion, CO2 emission, Area]\n",
      "Index: []\n"
     ]
    }
   ],
   "source": [
    "def replaceNeg(dataset,columnName):\n",
    "    dataset[columnName] = abs(dataset[columnName])\n",
    "\n",
    "replaceNeg(dataset,'Area')\n",
    "replaceNeg(dataset,'GDP per capita')\n",
    "\n",
    "print(dataset[dataset['Area']<0])\n",
    "print(dataset[dataset['GDP per capita']<0])"
   ]
  },
  {
   "cell_type": "markdown",
   "metadata": {},
   "source": [
    "Також помітив, що є NULL значення. Давайте замінимо їх на середні значення, як це було зазначено в додатковому завданні. Перевіримо вигляд даних тепер."
   ]
  },
  {
   "cell_type": "code",
   "execution_count": 5,
   "metadata": {},
   "outputs": [
    {
     "data": {
      "text/html": [
       "<div>\n",
       "<style scoped>\n",
       "    .dataframe tbody tr th:only-of-type {\n",
       "        vertical-align: middle;\n",
       "    }\n",
       "\n",
       "    .dataframe tbody tr th {\n",
       "        vertical-align: top;\n",
       "    }\n",
       "\n",
       "    .dataframe thead th {\n",
       "        text-align: right;\n",
       "    }\n",
       "</style>\n",
       "<table border=\"1\" class=\"dataframe\">\n",
       "  <thead>\n",
       "    <tr style=\"text-align: right;\">\n",
       "      <th></th>\n",
       "      <th>Country Name</th>\n",
       "      <th>Region</th>\n",
       "      <th>GDP per capita</th>\n",
       "      <th>Populatiion</th>\n",
       "      <th>CO2 emission</th>\n",
       "      <th>Area</th>\n",
       "    </tr>\n",
       "  </thead>\n",
       "  <tbody>\n",
       "    <tr>\n",
       "      <th>0</th>\n",
       "      <td>Afghanistan</td>\n",
       "      <td>South Asia</td>\n",
       "      <td>561.778746</td>\n",
       "      <td>34656032.0</td>\n",
       "      <td>9809.225000</td>\n",
       "      <td>652860.0</td>\n",
       "    </tr>\n",
       "    <tr>\n",
       "      <th>1</th>\n",
       "      <td>Albania</td>\n",
       "      <td>Europe &amp; Central Asia</td>\n",
       "      <td>4124.982390</td>\n",
       "      <td>2876101.0</td>\n",
       "      <td>5716.853000</td>\n",
       "      <td>28750.0</td>\n",
       "    </tr>\n",
       "    <tr>\n",
       "      <th>2</th>\n",
       "      <td>Algeria</td>\n",
       "      <td>Middle East &amp; North Africa</td>\n",
       "      <td>3916.881571</td>\n",
       "      <td>40606052.0</td>\n",
       "      <td>145400.217000</td>\n",
       "      <td>2381740.0</td>\n",
       "    </tr>\n",
       "    <tr>\n",
       "      <th>3</th>\n",
       "      <td>American Samoa</td>\n",
       "      <td>East Asia &amp; Pacific</td>\n",
       "      <td>11834.745230</td>\n",
       "      <td>55599.0</td>\n",
       "      <td>165114.116337</td>\n",
       "      <td>200.0</td>\n",
       "    </tr>\n",
       "    <tr>\n",
       "      <th>4</th>\n",
       "      <td>Andorra</td>\n",
       "      <td>Europe &amp; Central Asia</td>\n",
       "      <td>36988.622030</td>\n",
       "      <td>77281.0</td>\n",
       "      <td>462.042000</td>\n",
       "      <td>470.0</td>\n",
       "    </tr>\n",
       "    <tr>\n",
       "      <th>5</th>\n",
       "      <td>Angola</td>\n",
       "      <td>Sub-Saharan Africa</td>\n",
       "      <td>3308.700233</td>\n",
       "      <td>28813463.0</td>\n",
       "      <td>34763.160000</td>\n",
       "      <td>1246700.0</td>\n",
       "    </tr>\n",
       "    <tr>\n",
       "      <th>6</th>\n",
       "      <td>Antigua and Barbuda</td>\n",
       "      <td>Latin America &amp; Caribbean</td>\n",
       "      <td>14462.176280</td>\n",
       "      <td>100963.0</td>\n",
       "      <td>531.715000</td>\n",
       "      <td>440.0</td>\n",
       "    </tr>\n",
       "    <tr>\n",
       "      <th>7</th>\n",
       "      <td>Argentina</td>\n",
       "      <td>Latin America &amp; Caribbean</td>\n",
       "      <td>12440.320980</td>\n",
       "      <td>43847430.0</td>\n",
       "      <td>204024.546000</td>\n",
       "      <td>2780400.0</td>\n",
       "    </tr>\n",
       "    <tr>\n",
       "      <th>8</th>\n",
       "      <td>Armenia</td>\n",
       "      <td>Europe &amp; Central Asia</td>\n",
       "      <td>3614.688357</td>\n",
       "      <td>2924816.0</td>\n",
       "      <td>5529.836000</td>\n",
       "      <td>29740.0</td>\n",
       "    </tr>\n",
       "    <tr>\n",
       "      <th>9</th>\n",
       "      <td>Aruba</td>\n",
       "      <td>Latin America &amp; Caribbean</td>\n",
       "      <td>13445.593416</td>\n",
       "      <td>104822.0</td>\n",
       "      <td>872.746000</td>\n",
       "      <td>180.0</td>\n",
       "    </tr>\n",
       "  </tbody>\n",
       "</table>\n",
       "</div>"
      ],
      "text/plain": [
       "          Country Name                      Region  GDP per capita  \\\n",
       "0          Afghanistan                  South Asia      561.778746   \n",
       "1              Albania       Europe & Central Asia     4124.982390   \n",
       "2              Algeria  Middle East & North Africa     3916.881571   \n",
       "3       American Samoa         East Asia & Pacific    11834.745230   \n",
       "4              Andorra       Europe & Central Asia    36988.622030   \n",
       "5               Angola          Sub-Saharan Africa     3308.700233   \n",
       "6  Antigua and Barbuda   Latin America & Caribbean    14462.176280   \n",
       "7            Argentina   Latin America & Caribbean    12440.320980   \n",
       "8              Armenia       Europe & Central Asia     3614.688357   \n",
       "9                Aruba   Latin America & Caribbean    13445.593416   \n",
       "\n",
       "   Populatiion   CO2 emission       Area  \n",
       "0   34656032.0    9809.225000   652860.0  \n",
       "1    2876101.0    5716.853000    28750.0  \n",
       "2   40606052.0  145400.217000  2381740.0  \n",
       "3      55599.0  165114.116337      200.0  \n",
       "4      77281.0     462.042000      470.0  \n",
       "5   28813463.0   34763.160000  1246700.0  \n",
       "6     100963.0     531.715000      440.0  \n",
       "7   43847430.0  204024.546000  2780400.0  \n",
       "8    2924816.0    5529.836000    29740.0  \n",
       "9     104822.0     872.746000      180.0  "
      ]
     },
     "execution_count": 5,
     "metadata": {},
     "output_type": "execute_result"
    }
   ],
   "source": [
    "def replaceNull(dataset,columnName):\n",
    "    mean = dataset[columnName].mean()\n",
    "    dataset[columnName].fillna(mean,inplace = True)\n",
    "replaceNull(dataset,'CO2 emission')\n",
    "replaceNull(dataset,'GDP per capita')\n",
    "replaceNull(dataset,'Populatiion')\n",
    "dataset.head(10)"
   ]
  },
  {
   "cell_type": "markdown",
   "metadata": {},
   "source": [
    "Тепер давайте зобразимо діаграми розмаху для всіх наших числових стовпців."
   ]
  },
  {
   "cell_type": "code",
   "execution_count": 6,
   "metadata": {},
   "outputs": [
    {
     "data": {
      "image/png": "[encoded data removed]",
      "text/plain": [
       "<Figure size 864x720 with 4 Axes>"
      ]
     },
     "metadata": {
      "needs_background": "light"
     },
     "output_type": "display_data"
    }
   ],
   "source": [
    "def multipleBoxplot(dataset):\n",
    "    fig, [ax1,ax2,ax3,ax4] = plt.subplots(1,4,figsize=(12,10))\n",
    "    \n",
    "    fig.suptitle('Boxplots')\n",
    "    ax1.set_title('GDP per capita')\n",
    "    ax1.boxplot(dataset['GDP per capita'])\n",
    "    ax2.set_title('Populatiion')\n",
    "    ax2.boxplot(dataset['Populatiion'])\n",
    "    ax3.set_title('CO2 emission')\n",
    "    ax3.boxplot(dataset['CO2 emission'])\n",
    "    ax4.set_title('Area')  \n",
    "    ax4.boxplot(dataset['Area'])\n",
    "\n",
    "multipleBoxplot(dataset)"
   ]
  },
  {
   "cell_type": "markdown",
   "metadata": {},
   "source": [
    "Побудуємо гістограми для всіх наших числових стовпців."
   ]
  },
  {
   "cell_type": "code",
   "execution_count": 7,
   "metadata": {},
   "outputs": [
    {
     "data": {
      "image/png": "[encoded data removed]",
      "text/plain": [
       "<Figure size 864x432 with 4 Axes>"
      ]
     },
     "metadata": {
      "needs_background": "light"
     },
     "output_type": "display_data"
    }
   ],
   "source": [
    "def multipleHist(dataset):\n",
    "    fig, [ax1,ax2,ax3,ax4] = plt.subplots(1,4,figsize=(12,6))\n",
    "    \n",
    "    fig.suptitle('Hists')\n",
    "    ax1.set_title('GDP per capita')\n",
    "    ax1.hist(dataset['GDP per capita'])\n",
    "    ax2.set_title('Populatiion')\n",
    "    ax2.hist(dataset['Populatiion'])\n",
    "    ax3.set_title('CO2 emission')\n",
    "    ax3.hist(dataset['CO2 emission'])\n",
    "    ax4.set_title('Area')  \n",
    "    ax4.hist(dataset['Area'])\n",
    "multipleHist(dataset)"
   ]
  },
  {
   "cell_type": "markdown",
   "metadata": {},
   "source": [
    "Додамо стовпчик з даними про щільність населення."
   ]
  },
  {
   "cell_type": "code",
   "execution_count": 8,
   "metadata": {},
   "outputs": [
    {
     "data": {
      "text/html": [
       "<div>\n",
       "<style scoped>\n",
       "    .dataframe tbody tr th:only-of-type {\n",
       "        vertical-align: middle;\n",
       "    }\n",
       "\n",
       "    .dataframe tbody tr th {\n",
       "        vertical-align: top;\n",
       "    }\n",
       "\n",
       "    .dataframe thead th {\n",
       "        text-align: right;\n",
       "    }\n",
       "</style>\n",
       "<table border=\"1\" class=\"dataframe\">\n",
       "  <thead>\n",
       "    <tr style=\"text-align: right;\">\n",
       "      <th></th>\n",
       "      <th>Country Name</th>\n",
       "      <th>Region</th>\n",
       "      <th>GDP per capita</th>\n",
       "      <th>Populatiion</th>\n",
       "      <th>CO2 emission</th>\n",
       "      <th>Area</th>\n",
       "      <th>Population Density</th>\n",
       "    </tr>\n",
       "  </thead>\n",
       "  <tbody>\n",
       "    <tr>\n",
       "      <th>0</th>\n",
       "      <td>Afghanistan</td>\n",
       "      <td>South Asia</td>\n",
       "      <td>561.778746</td>\n",
       "      <td>34656032.0</td>\n",
       "      <td>9809.225000</td>\n",
       "      <td>652860.0</td>\n",
       "      <td>53.083405</td>\n",
       "    </tr>\n",
       "    <tr>\n",
       "      <th>1</th>\n",
       "      <td>Albania</td>\n",
       "      <td>Europe &amp; Central Asia</td>\n",
       "      <td>4124.982390</td>\n",
       "      <td>2876101.0</td>\n",
       "      <td>5716.853000</td>\n",
       "      <td>28750.0</td>\n",
       "      <td>100.038296</td>\n",
       "    </tr>\n",
       "    <tr>\n",
       "      <th>2</th>\n",
       "      <td>Algeria</td>\n",
       "      <td>Middle East &amp; North Africa</td>\n",
       "      <td>3916.881571</td>\n",
       "      <td>40606052.0</td>\n",
       "      <td>145400.217000</td>\n",
       "      <td>2381740.0</td>\n",
       "      <td>17.048902</td>\n",
       "    </tr>\n",
       "    <tr>\n",
       "      <th>3</th>\n",
       "      <td>American Samoa</td>\n",
       "      <td>East Asia &amp; Pacific</td>\n",
       "      <td>11834.745230</td>\n",
       "      <td>55599.0</td>\n",
       "      <td>165114.116337</td>\n",
       "      <td>200.0</td>\n",
       "      <td>277.995000</td>\n",
       "    </tr>\n",
       "    <tr>\n",
       "      <th>4</th>\n",
       "      <td>Andorra</td>\n",
       "      <td>Europe &amp; Central Asia</td>\n",
       "      <td>36988.622030</td>\n",
       "      <td>77281.0</td>\n",
       "      <td>462.042000</td>\n",
       "      <td>470.0</td>\n",
       "      <td>164.427660</td>\n",
       "    </tr>\n",
       "  </tbody>\n",
       "</table>\n",
       "</div>"
      ],
      "text/plain": [
       "     Country Name                      Region  GDP per capita  Populatiion  \\\n",
       "0     Afghanistan                  South Asia      561.778746   34656032.0   \n",
       "1         Albania       Europe & Central Asia     4124.982390    2876101.0   \n",
       "2         Algeria  Middle East & North Africa     3916.881571   40606052.0   \n",
       "3  American Samoa         East Asia & Pacific    11834.745230      55599.0   \n",
       "4         Andorra       Europe & Central Asia    36988.622030      77281.0   \n",
       "\n",
       "    CO2 emission       Area  Population Density  \n",
       "0    9809.225000   652860.0           53.083405  \n",
       "1    5716.853000    28750.0          100.038296  \n",
       "2  145400.217000  2381740.0           17.048902  \n",
       "3  165114.116337      200.0          277.995000  \n",
       "4     462.042000      470.0          164.427660  "
      ]
     },
     "execution_count": 8,
     "metadata": {},
     "output_type": "execute_result"
    }
   ],
   "source": [
    "def addPopulationDensity(dataset):\n",
    "    dataset['Population Density'] = dataset['Populatiion'] / dataset[\"Area\"]\n",
    "addPopulationDensity(dataset)\n",
    "\n",
    "dataset.head(5)"
   ]
  },
  {
   "cell_type": "markdown",
   "metadata": {},
   "source": [
    "Приступимо до виконання додаткового завдання. Пусті значення ми вже замінили середніми. Тепер давайте знайдемо країну(або країни, якщо їх декілька з однаковим) з максимальним ВВП на душу населення."
   ]
  },
  {
   "cell_type": "code",
   "execution_count": 9,
   "metadata": {},
   "outputs": [
    {
     "name": "stdout",
     "output_type": "stream",
     "text": [
      "The biggest GDP per capita:\n",
      "115    Luxembourg\n"
     ]
    }
   ],
   "source": [
    "print('The biggest GDP per capita:')\n",
    "print(dataset[dataset['GDP per capita'] == dataset['GDP per capita'].max()]['Country Name'].to_string())\n"
   ]
  },
  {
   "cell_type": "markdown",
   "metadata": {},
   "source": [
    "Виведемо країну з найменшою площею."
   ]
  },
  {
   "cell_type": "code",
   "execution_count": 10,
   "metadata": {},
   "outputs": [
    {
     "name": "stdout",
     "output_type": "stream",
     "text": [
      "The smallest area size:\n",
      "130    Monaco\n"
     ]
    }
   ],
   "source": [
    "print('The smallest area size:')\n",
    "print(dataset[dataset['Area'] == dataset['Area'].min()]['Country Name'].to_string())\n"
   ]
  },
  {
   "cell_type": "markdown",
   "metadata": {},
   "source": [
    "Знайдемо регіон з найбільшою середньою площею країн в ньому."
   ]
  },
  {
   "cell_type": "code",
   "execution_count": 11,
   "metadata": {},
   "outputs": [
    {
     "name": "stdout",
     "output_type": "stream",
     "text": [
      "Max AVG area region: \n",
      "North America\n"
     ]
    }
   ],
   "source": [
    "def findMaxAverageAreaRegion(dataset):\n",
    "    maxAverageArea = dataset.groupby('Region').mean()['Area'].idxmax()\n",
    "    print(maxAverageArea)\n",
    "\n",
    "print('Max AVG area region: ')\n",
    "findMaxAverageAreaRegion(dataset)"
   ]
  },
  {
   "cell_type": "markdown",
   "metadata": {},
   "source": [
    "Знайдемо країну з найбільшим населенням в світі."
   ]
  },
  {
   "cell_type": "code",
   "execution_count": 12,
   "metadata": {},
   "outputs": [
    {
     "name": "stdout",
     "output_type": "stream",
     "text": [
      "The most populated country in world:\n",
      "41    China\n"
     ]
    }
   ],
   "source": [
    "def maxPopulationWorld(dataset):\n",
    "    print(dataset[dataset['Populatiion'] == dataset['Populatiion'].max()]['Country Name'].to_string())\n",
    "\n",
    "print('The most populated country in world:')\n",
    "maxPopulationWorld(dataset)"
   ]
  },
  {
   "cell_type": "markdown",
   "metadata": {},
   "source": [
    "Знайдемо країну з найбільшим населенням в Європі."
   ]
  },
  {
   "cell_type": "code",
   "execution_count": 13,
   "metadata": {},
   "outputs": [
    {
     "name": "stdout",
     "output_type": "stream",
     "text": [
      "The most populated country in Europe:\n",
      "160    Russian Federation\n"
     ]
    }
   ],
   "source": [
    "def maxPopulationEurope(dataset):\n",
    "    subset = dataset[dataset['Region'] == 'Europe & Central Asia']\n",
    "    print(subset[subset['Populatiion'] == subset['Populatiion'].max()]['Country Name'].to_string())\n",
    "\n",
    "print('The most populated country in Europe:')\n",
    "maxPopulationEurope(dataset)"
   ]
  },
  {
   "cell_type": "markdown",
   "metadata": {},
   "source": [
    "Знайдемо чи свівпадає в якомусь регіоні середнє та медіана ВВП на душу населення. Виведемо медіани, середні та спільне. Як бачимо, не співпадає."
   ]
  },
  {
   "cell_type": "code",
   "execution_count": 14,
   "metadata": {},
   "outputs": [
    {
     "name": "stdout",
     "output_type": "stream",
     "text": [
      "Mean: \n",
      "Region\n",
      "East Asia & Pacific           15130.226548\n",
      "Europe & Central Asia         22742.135518\n",
      "Latin America & Caribbean     10485.343136\n",
      "Middle East & North Africa    15459.162533\n",
      "North America                 37755.682535\n",
      "South Asia                     2795.213935\n",
      "Sub-Saharan Africa             2878.665521\n",
      "Name: GDP per capita, dtype: float64\n",
      "Median: \n",
      "Region\n",
      "East Asia & Pacific            5910.620932\n",
      "Europe & Central Asia         13445.593416\n",
      "Latin America & Caribbean     10833.201075\n",
      "Middle East & North Africa    13445.593416\n",
      "North America                 42183.295100\n",
      "South Asia                     1576.608412\n",
      "Sub-Saharan Africa             1034.390361\n",
      "Name: GDP per capita, dtype: float64\n",
      "GDP per capita    False\n",
      "dtype: bool\n"
     ]
    }
   ],
   "source": [
    "def checkMatchMeanAndMedian(dataset):\n",
    "    mean = dataset.groupby('Region').mean()['GDP per capita']\n",
    "    median = dataset.groupby('Region').median()['GDP per capita']\n",
    "    print('Mean: ')\n",
    "    print(mean)\n",
    "    print('Median: ')\n",
    "    print(median)\n",
    "    print(pd.merge(mean,median,how = 'inner').any())\n",
    "checkMatchMeanAndMedian(dataset)"
   ]
  },
  {
   "cell_type": "markdown",
   "metadata": {},
   "source": [
    "Виведемо 5 країн з найбільшим та 5 з найменшим ВВП на душу населення. Як бачимо, країни з найменшим - переважно країни Африки. З найбільшим - Європи."
   ]
  },
  {
   "cell_type": "code",
   "execution_count": 15,
   "metadata": {},
   "outputs": [
    {
     "name": "stdout",
     "output_type": "stream",
     "text": [
      "Top 5 by GDP per capita:\n",
      "         Country Name                 Region  GDP per capita  Populatiion  \\\n",
      "115        Luxembourg  Europe & Central Asia    100738.68420     582972.0   \n",
      "188       Switzerland  Europe & Central Asia     79887.51824    8372098.0   \n",
      "116  Macao SAR, China    East Asia & Pacific     74017.18471     612167.0   \n",
      "146            Norway  Europe & Central Asia     70868.12250    5232929.0   \n",
      "92            Ireland  Europe & Central Asia     64175.43824    4773095.0   \n",
      "\n",
      "     CO2 emission      Area  Population Density  \n",
      "115      9658.878    2590.0          225.085714  \n",
      "188     35305.876   41290.0          202.763333  \n",
      "116      1283.450      30.3        20203.531353  \n",
      "146     47626.996  385178.0           13.585742  \n",
      "92      34066.430   70280.0           67.915410  \n",
      "Bottom 5 by GDP per capita:\n",
      "                 Country Name              Region  GDP per capita  \\\n",
      "118                Madagascar  Sub-Saharan Africa      401.742270   \n",
      "37   Central African Republic  Sub-Saharan Africa      382.213174   \n",
      "134                Mozambique  Sub-Saharan Africa      382.069330   \n",
      "119                    Malawi  Sub-Saharan Africa      300.307665   \n",
      "31                    Burundi  Sub-Saharan Africa      285.727442   \n",
      "\n",
      "     Populatiion  CO2 emission      Area  Population Density  \n",
      "118   24894551.0      3076.613  587295.0           42.388495  \n",
      "37     4594621.0       300.694  622980.0            7.375230  \n",
      "134   28829476.0      8426.766  799380.0           36.064795  \n",
      "119   18091575.0      1276.116  118480.0          152.697291  \n",
      "31    10524117.0       440.040   27830.0          378.157276  \n"
     ]
    }
   ],
   "source": [
    "def topAndBottomGDP(dataset):\n",
    "    sortedByGRP = dataset.sort_values(by='GDP per capita', ascending = False)\n",
    "    print('Top 5 by GDP per capita:')\n",
    "    print(sortedByGRP.head(5))\n",
    "    print('Bottom 5 by GDP per capita:')\n",
    "    print(sortedByGRP.tail(5))\n",
    "topAndBottomGDP(dataset)"
   ]
  },
  {
   "cell_type": "markdown",
   "metadata": {},
   "source": [
    "Додамо стовпчик з забрудненням вуглекислим газом на душу населення. Виведемо 5 країн з найбільшим та 5 з найменшим значенням цього показника. Найменший цей показник у країн Африки, адже, скоріш за все, порівняно мала кількість виробництв, транспорту та технологій, що можуть викидати CO2 в атмосферу."
   ]
  },
  {
   "cell_type": "code",
   "execution_count": 16,
   "metadata": {},
   "outputs": [
    {
     "name": "stdout",
     "output_type": "stream",
     "text": [
      "Top 5 by CO2 per capita\n",
      "                 Country Name                     Region  GDP per capita  \\\n",
      "182  St. Martin (French part)  Latin America & Caribbean    13445.593416   \n",
      "163                San Marino      Europe & Central Asia    47908.561410   \n",
      "130                    Monaco      Europe & Central Asia    13445.593416   \n",
      "145  Northern Mariana Islands        East Asia & Pacific    22572.378820   \n",
      "3              American Samoa        East Asia & Pacific    11834.745230   \n",
      "\n",
      "     Populatiion   CO2 emission   Area  Population Density  CO2 per capita  \n",
      "182      31949.0  165114.116337   54.4          587.297794        5.168053  \n",
      "163      33203.0  165114.116337   60.0          553.383333        4.972867  \n",
      "130      38499.0  165114.116337    2.0        19249.500000        4.288790  \n",
      "145      55023.0  165114.116337  460.0          119.615217        3.000820  \n",
      "3        55599.0  165114.116337  200.0          277.995000        2.969732  \n",
      "Bottom 5 by CO2 per capita\n",
      "         Country Name              Region  GDP per capita   Populatiion  \\\n",
      "44   Congo, Dem. Rep.  Sub-Saharan Africa      405.542501  7.873615e+07   \n",
      "38               Chad  Sub-Saharan Africa      664.295652  1.445254e+07   \n",
      "175           Somalia  Sub-Saharan Africa      434.208810  1.431800e+07   \n",
      "31            Burundi  Sub-Saharan Africa      285.727442  1.052412e+07   \n",
      "61            Eritrea  Sub-Saharan Africa    13445.593416  3.432256e+07   \n",
      "\n",
      "     CO2 emission       Area  Population Density  CO2 per capita  \n",
      "44       4671.758  2344860.0           33.578189        0.000059  \n",
      "38        729.733  1284000.0           11.255875        0.000050  \n",
      "175       608.722   637660.0           22.453966        0.000043  \n",
      "31        440.040    27830.0          378.157276        0.000042  \n",
      "61        696.730   117600.0          291.858502        0.000020  \n"
     ]
    }
   ],
   "source": [
    "def topAndBottomCO2PerCapita(dataset):\n",
    "    #Add column with CO2 per capita\n",
    "    dataset['CO2 per capita'] = dataset['CO2 emission'] / dataset['Populatiion']\n",
    "    sortedByCO2PerCapita = dataset.sort_values(by = 'CO2 per capita', ascending = False)\n",
    "    print('Top 5 by CO2 per capita')\n",
    "    print(sortedByCO2PerCapita.head(5))\n",
    "    print('Bottom 5 by CO2 per capita')\n",
    "    print(sortedByCO2PerCapita.tail(5))\n",
    "topAndBottomCO2PerCapita(dataset)\n"
   ]
  }
 ],
 "metadata": {
  "interpreter": {
   "hash": "931470d7c6d44362542f3cf9b90a23e0baf530c8a2ad341a70962b76f071b7d0"
  },
  "kernelspec": {
   "display_name": "Python 3.10.4 64-bit",
   "language": "python",
   "name": "python3"
  },
  "language_info": {
   "codemirror_mode": {
    "name": "ipython",
    "version": 3
   },
   "file_extension": ".py",
   "mimetype": "text/x-python",
   "name": "python",
   "nbconvert_exporter": "python",
   "pygments_lexer": "ipython3",
   "version": "3.10.4"
  },
  "orig_nbformat": 4
 },
 "nbformat": 4,
 "nbformat_minor": 2
}
