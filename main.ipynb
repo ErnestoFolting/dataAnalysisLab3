{
 "cells": [
  {
   "cell_type": "code",
   "execution_count": 1,
   "metadata": {},
   "outputs": [
    {
     "name": "stdout",
     "output_type": "stream",
     "text": [
      "           Country Name                      Region GDP per capita  \\\n",
      "0           Afghanistan                  South Asia    561,7787463   \n",
      "1               Albania       Europe & Central Asia     4124,98239   \n",
      "2               Algeria  Middle East & North Africa    3916,881571   \n",
      "3        American Samoa         East Asia & Pacific    11834,74523   \n",
      "4               Andorra       Europe & Central Asia    36988,62203   \n",
      "..                  ...                         ...            ...   \n",
      "213  West Bank and Gaza  Middle East & North Africa    2943,404534   \n",
      "214         Yemen, Rep.  Middle East & North Africa     990,334774   \n",
      "215              Zambia          Sub-Saharan Africa    1269,573537   \n",
      "216            Zimbabwe          Sub-Saharan Africa    1029,076649   \n",
      "217          Luxembourg       Europe & Central Asia    100738,6842   \n",
      "\n",
      "     Populatiion CO2 emission     Area  \n",
      "0     34656032.0     9809,225   652860  \n",
      "1      2876101.0     5716,853    28750  \n",
      "2     40606052.0   145400,217  2381740  \n",
      "3        55599.0          NaN      200  \n",
      "4        77281.0      462,042      470  \n",
      "..           ...          ...      ...  \n",
      "213    4551566.0          NaN     6020  \n",
      "214   27584213.0     22698,73   527970  \n",
      "215   16591390.0     4503,076   752610  \n",
      "216   16150362.0    12020,426   390760  \n",
      "217     582972.0     9658,878     2590  \n",
      "\n",
      "[218 rows x 6 columns]\n"
     ]
    }
   ],
   "source": [
    "from dataclasses import replace\n",
    "import pandas as pd \n",
    "import matplotlib.pyplot as plt\n",
    "\n",
    "def getDataset():\n",
    "    data = pd.read_csv('Data2.csv',sep=';',encoding='cp1252')\n",
    "    return data \n",
    "\n",
    "dataset = getDataset()\n",
    "\n",
    "datasetDataframe = pd.DataFrame(dataset)\n",
    "\n",
    "print(dataset)\n"
   ]
  },
  {
   "cell_type": "code",
   "execution_count": 2,
   "metadata": {},
   "outputs": [
    {
     "name": "stdout",
     "output_type": "stream",
     "text": [
      "           Country Name                      Region  GDP per capita  \\\n",
      "0           Afghanistan                  South Asia      561.778746   \n",
      "1               Albania       Europe & Central Asia     4124.982390   \n",
      "2               Algeria  Middle East & North Africa     3916.881571   \n",
      "3        American Samoa         East Asia & Pacific    11834.745230   \n",
      "4               Andorra       Europe & Central Asia    36988.622030   \n",
      "..                  ...                         ...             ...   \n",
      "213  West Bank and Gaza  Middle East & North Africa     2943.404534   \n",
      "214         Yemen, Rep.  Middle East & North Africa      990.334774   \n",
      "215              Zambia          Sub-Saharan Africa     1269.573537   \n",
      "216            Zimbabwe          Sub-Saharan Africa     1029.076649   \n",
      "217          Luxembourg       Europe & Central Asia   100738.684200   \n",
      "\n",
      "     Populatiion  CO2 emission       Area  \n",
      "0     34656032.0      9809.225   652860.0  \n",
      "1      2876101.0      5716.853    28750.0  \n",
      "2     40606052.0    145400.217  2381740.0  \n",
      "3        55599.0           NaN      200.0  \n",
      "4        77281.0       462.042      470.0  \n",
      "..           ...           ...        ...  \n",
      "213    4551566.0           NaN     6020.0  \n",
      "214   27584213.0     22698.730   527970.0  \n",
      "215   16591390.0      4503.076   752610.0  \n",
      "216   16150362.0     12020.426   390760.0  \n",
      "217     582972.0      9658.878     2590.0  \n",
      "\n",
      "[218 rows x 6 columns]\n"
     ]
    }
   ],
   "source": [
    "def toFloat(dataset,columnName):\n",
    "    dataset[columnName] = dataset[columnName].str.replace(',', '.').astype(float)\n",
    "\n",
    "toFloat(dataset,'GDP per capita')\n",
    "toFloat(dataset,'CO2 emission')\n",
    "toFloat(dataset,'Area')\n",
    "dataset.dtypes\n",
    "\n",
    "print(dataset)"
   ]
  },
  {
   "cell_type": "code",
   "execution_count": 3,
   "metadata": {},
   "outputs": [
    {
     "name": "stdout",
     "output_type": "stream",
     "text": [
      "Empty DataFrame\n",
      "Columns: [Country Name, Region, GDP per capita, Populatiion, CO2 emission, Area]\n",
      "Index: []\n",
      "Empty DataFrame\n",
      "Columns: [Country Name, Region, GDP per capita, Populatiion, CO2 emission, Area]\n",
      "Index: []\n"
     ]
    }
   ],
   "source": [
    "def replaceNeg(dataset,columnName):\n",
    "    dataset[columnName] = abs(dataset[columnName])\n",
    "\n",
    "replaceNeg(dataset,'Area')\n",
    "replaceNeg(dataset,'GDP per capita')\n",
    "\n",
    "print(dataset[dataset['Area']<0])\n",
    "print(dataset[dataset['GDP per capita']<0])"
   ]
  },
  {
   "cell_type": "code",
   "execution_count": 4,
   "metadata": {},
   "outputs": [
    {
     "name": "stdout",
     "output_type": "stream",
     "text": [
      "           Country Name                      Region  GDP per capita  \\\n",
      "0           Afghanistan                  South Asia      561.778746   \n",
      "1               Albania       Europe & Central Asia     4124.982390   \n",
      "2               Algeria  Middle East & North Africa     3916.881571   \n",
      "3        American Samoa         East Asia & Pacific    11834.745230   \n",
      "4               Andorra       Europe & Central Asia    36988.622030   \n",
      "..                  ...                         ...             ...   \n",
      "213  West Bank and Gaza  Middle East & North Africa     2943.404534   \n",
      "214         Yemen, Rep.  Middle East & North Africa      990.334774   \n",
      "215              Zambia          Sub-Saharan Africa     1269.573537   \n",
      "216            Zimbabwe          Sub-Saharan Africa     1029.076649   \n",
      "217          Luxembourg       Europe & Central Asia   100738.684200   \n",
      "\n",
      "     Populatiion   CO2 emission       Area  \n",
      "0     34656032.0    9809.225000   652860.0  \n",
      "1      2876101.0    5716.853000    28750.0  \n",
      "2     40606052.0  145400.217000  2381740.0  \n",
      "3        55599.0  164359.479257      200.0  \n",
      "4        77281.0     462.042000      470.0  \n",
      "..           ...            ...        ...  \n",
      "213    4551566.0  164359.479257     6020.0  \n",
      "214   27584213.0   22698.730000   527970.0  \n",
      "215   16591390.0    4503.076000   752610.0  \n",
      "216   16150362.0   12020.426000   390760.0  \n",
      "217     582972.0    9658.878000     2590.0  \n",
      "\n",
      "[218 rows x 6 columns]\n"
     ]
    }
   ],
   "source": [
    "def replaceNull(dataset,columnName):\n",
    "    mean = dataset[columnName].mean()\n",
    "    dataset[columnName].fillna(mean,inplace = True)\n",
    "replaceNull(dataset,'CO2 emission')\n",
    "replaceNull(dataset,'GDP per capita')\n",
    "replaceNull(dataset,'Populatiion')\n",
    "print(dataset)"
   ]
  },
  {
   "cell_type": "code",
   "execution_count": 5,
   "metadata": {},
   "outputs": [
    {
     "data": {
      "image/png": "[encoded data removed]",
      "text/plain": [
       "<Figure size 864x720 with 4 Axes>"
      ]
     },
     "metadata": {
      "needs_background": "light"
     },
     "output_type": "display_data"
    }
   ],
   "source": [
    "def multipleBoxplot(dataset):\n",
    "    fig, [ax1,ax2,ax3,ax4] = plt.subplots(1,4,figsize=(12,10))\n",
    "    \n",
    "    fig.suptitle('Boxplots')\n",
    "    ax1.set_title('GDP per capita')\n",
    "    ax1.boxplot(dataset['GDP per capita'])\n",
    "    ax2.set_title('Populatiion')\n",
    "    ax2.boxplot(dataset['Populatiion'])\n",
    "    ax3.set_title('CO2 emission')\n",
    "    ax3.boxplot(dataset['CO2 emission'])\n",
    "    ax4.set_title('Area')  \n",
    "    ax4.boxplot(dataset['Area'])\n",
    "\n",
    "multipleBoxplot(dataset)"
   ]
  },
  {
   "cell_type": "code",
   "execution_count": 6,
   "metadata": {},
   "outputs": [
    {
     "data": {
      "image/png": "[encoded data removed]",
      "text/plain": [
       "<Figure size 864x432 with 4 Axes>"
      ]
     },
     "metadata": {
      "needs_background": "light"
     },
     "output_type": "display_data"
    }
   ],
   "source": [
    "def multipleHist(dataset):\n",
    "    fig, [ax1,ax2,ax3,ax4] = plt.subplots(1,4,figsize=(12,6))\n",
    "    \n",
    "    fig.suptitle('Hists')\n",
    "    ax1.set_title('GDP per capita')\n",
    "    ax1.hist(dataset['GDP per capita'])\n",
    "    ax2.set_title('Populatiion')\n",
    "    ax2.hist(dataset['Populatiion'])\n",
    "    ax3.set_title('CO2 emission')\n",
    "    ax3.hist(dataset['CO2 emission'])\n",
    "    ax4.set_title('Area')  \n",
    "    ax4.hist(dataset['Area'])\n",
    "multipleHist(dataset)"
   ]
  },
  {
   "cell_type": "code",
   "execution_count": 7,
   "metadata": {},
   "outputs": [],
   "source": [
    "def addPopulationDensity(dataset):\n",
    "    dataset['Population Density'] = dataset['Populatiion'] / dataset[\"Area\"]\n",
    "addPopulationDensity(dataset)\n"
   ]
  },
  {
   "cell_type": "code",
   "execution_count": 9,
   "metadata": {},
   "outputs": [
    {
     "name": "stdout",
     "output_type": "stream",
     "text": [
      "The biggest GDP per capita:\n",
      "115    Luxembourg\n",
      "217    Luxembourg\n",
      "Name: Country Name, dtype: object\n"
     ]
    }
   ],
   "source": [
    "print('The biggest GDP per capita:')\n",
    "print(dataset[dataset['GDP per capita'] == dataset['GDP per capita'].max()]['Country Name'])\n"
   ]
  },
  {
   "cell_type": "code",
   "execution_count": 11,
   "metadata": {},
   "outputs": [
    {
     "name": "stdout",
     "output_type": "stream",
     "text": [
      "The smallest area size:\n",
      "130    Monaco\n",
      "Name: Country Name, dtype: object\n"
     ]
    }
   ],
   "source": [
    "print('The smallest area size:')\n",
    "print(dataset[dataset['Area'] == dataset['Area'].min()]['Country Name'])\n"
   ]
  },
  {
   "cell_type": "code",
   "execution_count": 36,
   "metadata": {},
   "outputs": [
    {
     "name": "stdout",
     "output_type": "stream",
     "text": [
      "Max AVG area region: \n",
      "North America\n"
     ]
    }
   ],
   "source": [
    "def findMaxAverageAreaRegion(dataset):\n",
    "    maxAverageArea = dataset.groupby('Region').mean()['Area'].idxmax()\n",
    "    print(maxAverageArea)\n",
    "\n",
    "print('Max AVG area region: ')\n",
    "findMaxAverageAreaRegion(dataset)"
   ]
  },
  {
   "cell_type": "code",
   "execution_count": 41,
   "metadata": {},
   "outputs": [
    {
     "name": "stdout",
     "output_type": "stream",
     "text": [
      "The most populated country in world:\n",
      "41    China\n",
      "Name: Country Name, dtype: object\n"
     ]
    }
   ],
   "source": [
    "def maxPopulationWorld(dataset):\n",
    "    print(dataset[dataset['Populatiion'] == dataset['Populatiion'].max()]['Country Name'])\n",
    "\n",
    "print('The most populated country in world:')\n",
    "maxPopulationWorld(dataset)"
   ]
  },
  {
   "cell_type": "code",
   "execution_count": 46,
   "metadata": {},
   "outputs": [
    {
     "name": "stdout",
     "output_type": "stream",
     "text": [
      "The most populated country in Europe:\n",
      "160    Russian Federation\n",
      "Name: Country Name, dtype: object\n"
     ]
    }
   ],
   "source": [
    "def maxPopulationEurope(dataset):\n",
    "    subset = dataset[dataset['Region'] == 'Europe & Central Asia']\n",
    "    print(subset[subset['Populatiion'] == subset['Populatiion'].max()]['Country Name'])\n",
    "\n",
    "print('The most populated country in Europe:')\n",
    "maxPopulationEurope(dataset)"
   ]
  },
  {
   "cell_type": "code",
   "execution_count": 68,
   "metadata": {},
   "outputs": [
    {
     "name": "stdout",
     "output_type": "stream",
     "text": [
      "Mean: \n",
      "Region\n",
      "East Asia & Pacific           15167.283188\n",
      "Europe & Central Asia         24118.335042\n",
      "Latin America & Caribbean     10594.160252\n",
      "Middle East & North Africa    15524.452803\n",
      "North America                 37908.026498\n",
      "South Asia                     2795.213935\n",
      "Sub-Saharan Africa             2907.230014\n",
      "Name: GDP per capita, dtype: float64\n",
      "Median: \n",
      "Region\n",
      "East Asia & Pacific            5910.620932\n",
      "Europe & Central Asia         13902.625305\n",
      "Latin America & Caribbean     10833.201075\n",
      "Middle East & North Africa    13902.625305\n",
      "North America                 42183.295100\n",
      "South Asia                     1576.608412\n",
      "Sub-Saharan Africa             1034.390361\n",
      "Name: GDP per capita, dtype: float64\n",
      "Empty DataFrame\n",
      "Columns: [GDP per capita]\n",
      "Index: []\n"
     ]
    }
   ],
   "source": [
    "def checkMatchMeanAndMedian(dataset):\n",
    "    mean = dataset.groupby('Region').mean()['GDP per capita']\n",
    "    median = dataset.groupby('Region').median()['GDP per capita']\n",
    "    print('Mean: ')\n",
    "    print(mean)\n",
    "    print('Median: ')\n",
    "    print(median)\n",
    "    print(pd.merge(mean,median,how = 'inner'))\n",
    "checkMatchMeanAndMedian(dataset)"
   ]
  },
  {
   "cell_type": "code",
   "execution_count": 72,
   "metadata": {},
   "outputs": [
    {
     "name": "stdout",
     "output_type": "stream",
     "text": [
      "Top 5 by GDP per capita:\n",
      "         Country Name                 Region  GDP per capita  Populatiion  \\\n",
      "217        Luxembourg  Europe & Central Asia    100738.68420     582972.0   \n",
      "115        Luxembourg  Europe & Central Asia    100738.68420     582972.0   \n",
      "188       Switzerland  Europe & Central Asia     79887.51824    8372098.0   \n",
      "116  Macao SAR, China    East Asia & Pacific     74017.18471     612167.0   \n",
      "146            Norway  Europe & Central Asia     70868.12250    5232929.0   \n",
      "\n",
      "     CO2 emission      Area  Population Density  \n",
      "217      9658.878    2590.0          225.085714  \n",
      "115      9658.878    2590.0          225.085714  \n",
      "188     35305.876   41290.0          202.763333  \n",
      "116      1283.450      30.3        20203.531353  \n",
      "146     47626.996  385178.0           13.585742  \n",
      "Bottom 5 by GDP per capita:\n",
      "                 Country Name              Region  GDP per capita  \\\n",
      "118                Madagascar  Sub-Saharan Africa      401.742270   \n",
      "37   Central African Republic  Sub-Saharan Africa      382.213174   \n",
      "134                Mozambique  Sub-Saharan Africa      382.069330   \n",
      "119                    Malawi  Sub-Saharan Africa      300.307665   \n",
      "31                    Burundi  Sub-Saharan Africa      285.727442   \n",
      "\n",
      "     Populatiion  CO2 emission      Area  Population Density  \n",
      "118   24894551.0      3076.613  587295.0           42.388495  \n",
      "37     4594621.0       300.694  622980.0            7.375230  \n",
      "134   28829476.0      8426.766  799380.0           36.064795  \n",
      "119   18091575.0      1276.116  118480.0          152.697291  \n",
      "31    10524117.0       440.040   27830.0          378.157276  \n"
     ]
    }
   ],
   "source": [
    "def topAndBottomGDP(dataset):\n",
    "    sortedByGRP = dataset.sort_values(by='GDP per capita', ascending = False)\n",
    "    print('Top 5 by GDP per capita:')\n",
    "    print(sortedByGRP.head(5))\n",
    "    print('Bottom 5 by GDP per capita:')\n",
    "    print(sortedByGRP.tail(5))\n",
    "topAndBottomGDP(dataset)"
   ]
  },
  {
   "cell_type": "code",
   "execution_count": 77,
   "metadata": {},
   "outputs": [
    {
     "name": "stdout",
     "output_type": "stream",
     "text": [
      "Top 5 by CO2 per capita\n",
      "                 Country Name                     Region  GDP per capita  \\\n",
      "182  St. Martin (French part)  Latin America & Caribbean    13902.625305   \n",
      "163                San Marino      Europe & Central Asia    47908.561410   \n",
      "130                    Monaco      Europe & Central Asia    13902.625305   \n",
      "145  Northern Mariana Islands        East Asia & Pacific    22572.378820   \n",
      "3              American Samoa        East Asia & Pacific    11834.745230   \n",
      "\n",
      "     Populatiion   CO2 emission   Area  Population Density  CO2 per capita  \n",
      "182      31949.0  164359.479257   54.4          587.297794        5.144433  \n",
      "163      33203.0  164359.479257   60.0          553.383333        4.950139  \n",
      "130      38499.0  164359.479257    2.0        19249.500000        4.269188  \n",
      "145      55023.0  164359.479257  460.0          119.615217        2.987105  \n",
      "3        55599.0  164359.479257  200.0          277.995000        2.956159  \n",
      "Bottom 5 by CO2 per capita\n",
      "         Country Name              Region  GDP per capita   Populatiion  \\\n",
      "44   Congo, Dem. Rep.  Sub-Saharan Africa      405.542501  7.873615e+07   \n",
      "38               Chad  Sub-Saharan Africa      664.295652  1.445254e+07   \n",
      "175           Somalia  Sub-Saharan Africa      434.208810  1.431800e+07   \n",
      "31            Burundi  Sub-Saharan Africa      285.727442  1.052412e+07   \n",
      "61            Eritrea  Sub-Saharan Africa    13902.625305  3.416708e+07   \n",
      "\n",
      "     CO2 emission       Area  Population Density  CO2 per capita  \n",
      "44       4671.758  2344860.0           33.578189        0.000059  \n",
      "38        729.733  1284000.0           11.255875        0.000050  \n",
      "175       608.722   637660.0           22.453966        0.000043  \n",
      "31        440.040    27830.0          378.157276        0.000042  \n",
      "61        696.730   117600.0          290.536377        0.000020  \n"
     ]
    }
   ],
   "source": [
    "def topAndBottomCO2PerCapita(dataset):\n",
    "    #Add column with CO2 per capita\n",
    "    dataset['CO2 per capita'] = dataset['CO2 emission'] / dataset['Populatiion']\n",
    "    sortedByCO2PerCapita = dataset.sort_values(by = 'CO2 per capita', ascending = False)\n",
    "    print('Top 5 by CO2 per capita')\n",
    "    print(sortedByCO2PerCapita.head(5))\n",
    "    print('Bottom 5 by CO2 per capita')\n",
    "    print(sortedByCO2PerCapita.tail(5))\n",
    "topAndBottomCO2PerCapita(dataset)\n"
   ]
  }
 ],
 "metadata": {
  "interpreter": {
   "hash": "931470d7c6d44362542f3cf9b90a23e0baf530c8a2ad341a70962b76f071b7d0"
  },
  "kernelspec": {
   "display_name": "Python 3.10.4 64-bit",
   "language": "python",
   "name": "python3"
  },
  "language_info": {
   "codemirror_mode": {
    "name": "ipython",
    "version": 3
   },
   "file_extension": ".py",
   "mimetype": "text/x-python",
   "name": "python",
   "nbconvert_exporter": "python",
   "pygments_lexer": "ipython3",
   "version": "3.10.4"
  },
  "orig_nbformat": 4
 },
 "nbformat": 4,
 "nbformat_minor": 2
}
